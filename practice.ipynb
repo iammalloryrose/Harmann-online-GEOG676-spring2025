{
 "cells": [
  {
   "cell_type": "code",
   "execution_count": null,
   "metadata": {},
   "outputs": [],
   "source": [
    "# First question: Multiply all items together\n",
    "part1 = [1, 2, 4, 8, 16, 32, 64, 128, 256, 512, 1024, 2048, 4096]\n",
    "result1 = 1\n",
    "\n",
    "for i in part1:\n",
    "    result1 = result1 * i\n",
    "\n",
    "print('The result of the first question is:,', result1)\n",
    "\n",
    "# Second question: Add all items together\n",
    "part2 = [-1, 23, 483, 8573, -13847, -381569, 1652337, 718522177]\n",
    "result2 = 0\n",
    "\n",
    "for i in part2:\n",
    "    result2 = result2 + i\n",
    "\n",
    "print('The result of the second question is:,', result2)\n",
    "\n",
    "# Third question: Is the number even using Modulus\n",
    "part3 = [146, 875, 911, 83, 81, 439, 44, 5, 46, 76, 61, 68, 1, 14, 38, 26, 21] \n",
    "result3 = 0\n",
    "\n",
    "for i in part3:\n",
    "    if i % 2 == 0:\n",
    "        result3 = result3 + i\n",
    "\n",
    "print('The result of the third question is:,', result3)"
   ]
  }
 ],
 "metadata": {
  "language_info": {
   "name": "python"
  }
 },
 "nbformat": 4,
 "nbformat_minor": 2
}
